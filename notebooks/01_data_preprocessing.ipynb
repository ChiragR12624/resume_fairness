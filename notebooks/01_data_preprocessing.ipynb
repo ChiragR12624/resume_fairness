{
 "cells": [
  {
   "cell_type": "code",
   "execution_count": 6,
   "metadata": {},
   "outputs": [
    {
     "data": {
      "text/html": [
       "<div>\n",
       "<style scoped>\n",
       "    .dataframe tbody tr th:only-of-type {\n",
       "        vertical-align: middle;\n",
       "    }\n",
       "\n",
       "    .dataframe tbody tr th {\n",
       "        vertical-align: top;\n",
       "    }\n",
       "\n",
       "    .dataframe thead th {\n",
       "        text-align: right;\n",
       "    }\n",
       "</style>\n",
       "<table border=\"1\" class=\"dataframe\">\n",
       "  <thead>\n",
       "    <tr style=\"text-align: right;\">\n",
       "      <th></th>\n",
       "      <th>candidate_id</th>\n",
       "      <th>gender</th>\n",
       "      <th>ethnicity</th>\n",
       "      <th>education</th>\n",
       "      <th>years_experience</th>\n",
       "      <th>skills</th>\n",
       "      <th>label</th>\n",
       "    </tr>\n",
       "  </thead>\n",
       "  <tbody>\n",
       "    <tr>\n",
       "      <th>0</th>\n",
       "      <td>0</td>\n",
       "      <td>female</td>\n",
       "      <td>groupA</td>\n",
       "      <td>phd</td>\n",
       "      <td>10</td>\n",
       "      <td>investment;as;either;identify</td>\n",
       "      <td>1</td>\n",
       "    </tr>\n",
       "    <tr>\n",
       "      <th>1</th>\n",
       "      <td>1</td>\n",
       "      <td>male</td>\n",
       "      <td>groupB</td>\n",
       "      <td>masters</td>\n",
       "      <td>8</td>\n",
       "      <td>data;although;recent;thousand</td>\n",
       "      <td>1</td>\n",
       "    </tr>\n",
       "    <tr>\n",
       "      <th>2</th>\n",
       "      <td>2</td>\n",
       "      <td>male</td>\n",
       "      <td>groupB</td>\n",
       "      <td>masters</td>\n",
       "      <td>18</td>\n",
       "      <td>where;guess;agree;skin</td>\n",
       "      <td>1</td>\n",
       "    </tr>\n",
       "    <tr>\n",
       "      <th>3</th>\n",
       "      <td>3</td>\n",
       "      <td>female</td>\n",
       "      <td>groupB</td>\n",
       "      <td>bachelors</td>\n",
       "      <td>17</td>\n",
       "      <td>participant;direction;discuss;city</td>\n",
       "      <td>1</td>\n",
       "    </tr>\n",
       "    <tr>\n",
       "      <th>4</th>\n",
       "      <td>4</td>\n",
       "      <td>female</td>\n",
       "      <td>groupB</td>\n",
       "      <td>phd</td>\n",
       "      <td>15</td>\n",
       "      <td>serve;scientist;enter;character</td>\n",
       "      <td>0</td>\n",
       "    </tr>\n",
       "  </tbody>\n",
       "</table>\n",
       "</div>"
      ],
      "text/plain": [
       "   candidate_id  gender ethnicity  education  years_experience  \\\n",
       "0             0  female    groupA        phd                10   \n",
       "1             1    male    groupB    masters                 8   \n",
       "2             2    male    groupB    masters                18   \n",
       "3             3  female    groupB  bachelors                17   \n",
       "4             4  female    groupB        phd                15   \n",
       "\n",
       "                               skills  label  \n",
       "0       investment;as;either;identify      1  \n",
       "1       data;although;recent;thousand      1  \n",
       "2              where;guess;agree;skin      1  \n",
       "3  participant;direction;discuss;city      1  \n",
       "4     serve;scientist;enter;character      0  "
      ]
     },
     "execution_count": 6,
     "metadata": {},
     "output_type": "execute_result"
    }
   ],
   "source": [
    "import pandas as pd\n",
    "\n",
    "# Load the dataset\n",
    "df = pd.read_csv('../data/synthetic_resumes.csv')  # adjust path if needed\n",
    "df.head()\n"
   ]
  },
  {
   "cell_type": "code",
   "execution_count": 7,
   "metadata": {},
   "outputs": [
    {
     "name": "stdout",
     "output_type": "stream",
     "text": [
      "Selection rate by gender:\n",
      "gender\n",
      "female        0.549107\n",
      "male          0.585177\n",
      "non-binary    0.592233\n",
      "unknown       0.536082\n",
      "Name: label, dtype: float64\n",
      "\n",
      "Selection rate by ethnicity:\n",
      "ethnicity\n",
      "groupA     0.569884\n",
      "groupB     0.536538\n",
      "groupC     0.630769\n",
      "unknown    0.566265\n",
      "Name: label, dtype: float64\n"
     ]
    }
   ],
   "source": [
    "# Cell 10 — selection rates by group (raw)\n",
    "if 'label' in df.columns:\n",
    "    if 'gender' in df.columns:\n",
    "        print(\"Selection rate by gender:\")\n",
    "        print(df.groupby('gender')['label'].mean())   # proportion labeled 1\n",
    "    if 'ethnicity' in df.columns:\n",
    "        print(\"\\nSelection rate by ethnicity:\")\n",
    "        print(df.groupby('ethnicity')['label'].mean())\n"
   ]
  },
  {
   "cell_type": "code",
   "execution_count": 8,
   "metadata": {},
   "outputs": [
    {
     "data": {
      "text/html": [
       "<div>\n",
       "<style scoped>\n",
       "    .dataframe tbody tr th:only-of-type {\n",
       "        vertical-align: middle;\n",
       "    }\n",
       "\n",
       "    .dataframe tbody tr th {\n",
       "        vertical-align: top;\n",
       "    }\n",
       "\n",
       "    .dataframe thead th {\n",
       "        text-align: right;\n",
       "    }\n",
       "</style>\n",
       "<table border=\"1\" class=\"dataframe\">\n",
       "  <thead>\n",
       "    <tr style=\"text-align: right;\">\n",
       "      <th></th>\n",
       "      <th>skills</th>\n",
       "      <th>skills_list</th>\n",
       "      <th>num_skills</th>\n",
       "    </tr>\n",
       "  </thead>\n",
       "  <tbody>\n",
       "    <tr>\n",
       "      <th>0</th>\n",
       "      <td>investment;as;either;identify</td>\n",
       "      <td>[investment, as, either, identify]</td>\n",
       "      <td>4</td>\n",
       "    </tr>\n",
       "    <tr>\n",
       "      <th>1</th>\n",
       "      <td>data;although;recent;thousand</td>\n",
       "      <td>[data, although, recent, thousand]</td>\n",
       "      <td>4</td>\n",
       "    </tr>\n",
       "    <tr>\n",
       "      <th>2</th>\n",
       "      <td>where;guess;agree;skin</td>\n",
       "      <td>[where, guess, agree, skin]</td>\n",
       "      <td>4</td>\n",
       "    </tr>\n",
       "    <tr>\n",
       "      <th>3</th>\n",
       "      <td>participant;direction;discuss;city</td>\n",
       "      <td>[participant, direction, discuss, city]</td>\n",
       "      <td>4</td>\n",
       "    </tr>\n",
       "    <tr>\n",
       "      <th>4</th>\n",
       "      <td>serve;scientist;enter;character</td>\n",
       "      <td>[serve, scientist, enter, character]</td>\n",
       "      <td>4</td>\n",
       "    </tr>\n",
       "    <tr>\n",
       "      <th>5</th>\n",
       "      <td>group;call;suggest;kid</td>\n",
       "      <td>[group, call, suggest, kid]</td>\n",
       "      <td>4</td>\n",
       "    </tr>\n",
       "  </tbody>\n",
       "</table>\n",
       "</div>"
      ],
      "text/plain": [
       "                               skills  \\\n",
       "0       investment;as;either;identify   \n",
       "1       data;although;recent;thousand   \n",
       "2              where;guess;agree;skin   \n",
       "3  participant;direction;discuss;city   \n",
       "4     serve;scientist;enter;character   \n",
       "5              group;call;suggest;kid   \n",
       "\n",
       "                               skills_list  num_skills  \n",
       "0       [investment, as, either, identify]           4  \n",
       "1       [data, although, recent, thousand]           4  \n",
       "2              [where, guess, agree, skin]           4  \n",
       "3  [participant, direction, discuss, city]           4  \n",
       "4     [serve, scientist, enter, character]           4  \n",
       "5              [group, call, suggest, kid]           4  "
      ]
     },
     "metadata": {},
     "output_type": "display_data"
    }
   ],
   "source": [
    "# Cell 9 — parse skills\n",
    "if 'skills' in df.columns:\n",
    "    df['skills'] = df['skills'].fillna('').astype(str).str.lower()\n",
    "    df['skills_list'] = df['skills'].apply(lambda s: [x.strip() for x in s.split(';') if x.strip()])\n",
    "    df['num_skills'] = df['skills_list'].apply(len)\n",
    "    display(df[['skills','skills_list','num_skills']].head(6))\n"
   ]
  },
  {
   "cell_type": "code",
   "execution_count": 9,
   "metadata": {},
   "outputs": [
    {
     "name": "stdout",
     "output_type": "stream",
     "text": [
      "gender gender\n",
      "male          904\n",
      "female        896\n",
      "non-binary    103\n",
      "unknown        97\n",
      "Name: count, dtype: int64\n",
      "ethnicity ethnicity\n",
      "groupA     1202\n",
      "groupB      520\n",
      "groupC      195\n",
      "unknown      83\n",
      "Name: count, dtype: int64\n",
      "education education\n",
      "phd          674\n",
      "masters      670\n",
      "bachelors    656\n",
      "Name: count, dtype: int64\n"
     ]
    }
   ],
   "source": [
    "for col in ['gender','ethnicity','education']:\n",
    "    if col in df.columns:\n",
    "        print(col, df[col].value_counts().head(10))\n"
   ]
  },
  {
   "cell_type": "code",
   "execution_count": 10,
   "metadata": {},
   "outputs": [
    {
     "name": "stdout",
     "output_type": "stream",
     "text": [
      "Normalized gender\n",
      "Normalized ethnicity\n",
      "Normalized education\n"
     ]
    }
   ],
   "source": [
    "# Cell 8 — normalize certain categorical columns (in-place)\n",
    "def norm_col(col):\n",
    "    if col in df.columns:\n",
    "        df[col] = df[col].astype(str).str.strip().str.lower().replace({'nan':'unknown'})\n",
    "        print(f\"Normalized {col}\")\n",
    "\n",
    "for c in ['gender','ethnicity','education']:\n",
    "    norm_col(c)\n",
    "\n",
    "# unify obvious short forms; adapt to your dataset\n",
    "df['gender'] = df['gender'].replace({'m':'male','f':'female','man':'male','woman':'female'})\n",
    "df['education'] = df['education'].replace({'bsc':'bachelors','msc':'masters','ph.d':'phd'})\n"
   ]
  },
  {
   "cell_type": "code",
   "execution_count": null,
   "metadata": {},
   "outputs": [],
   "source": []
  },
  {
   "cell_type": "code",
   "execution_count": 11,
   "metadata": {},
   "outputs": [
    {
     "name": "stdout",
     "output_type": "stream",
     "text": [
      "Label counts:\n",
      " label\n",
      "1    1134\n",
      "0     866\n",
      "Name: count, dtype: int64\n",
      "Label distribution (proportion):\n",
      " label\n",
      "1    0.567\n",
      "0    0.433\n",
      "Name: proportion, dtype: float64\n"
     ]
    }
   ],
   "source": [
    "# Cell 7 — quick label balance (important for modeling)\n",
    "if 'label' in df.columns:\n",
    "    print(\"Label counts:\\n\", df['label'].value_counts())\n",
    "    print(\"Label distribution (proportion):\\n\", df['label'].value_counts(normalize=True))\n"
   ]
  },
  {
   "cell_type": "code",
   "execution_count": 12,
   "metadata": {},
   "outputs": [
    {
     "name": "stdout",
     "output_type": "stream",
     "text": [
      "Missing values per column:\n",
      "candidate_id        0\n",
      "gender              0\n",
      "ethnicity           0\n",
      "education           0\n",
      "years_experience    0\n",
      "skills              0\n",
      "label               0\n",
      "skills_list         0\n",
      "num_skills          0\n",
      "dtype: int64\n",
      "\n",
      "Duplicate candidate IDs: 0\n"
     ]
    }
   ],
   "source": [
    "# Cell 6 — missing values & duplicates\n",
    "print(\"Missing values per column:\")\n",
    "print(df.isnull().sum())\n",
    "if 'candidate_id' in df.columns:\n",
    "    print(\"\\nDuplicate candidate IDs:\", df['candidate_id'].duplicated().sum())\n"
   ]
  },
  {
   "cell_type": "code",
   "execution_count": 13,
   "metadata": {},
   "outputs": [
    {
     "name": "stdout",
     "output_type": "stream",
     "text": [
      "Columns: ['candidate_id', 'gender', 'ethnicity', 'education', 'years_experience', 'skills', 'label', 'skills_list', 'num_skills']\n",
      "\n",
      "Dtypes:\n",
      " candidate_id         int64\n",
      "gender              object\n",
      "ethnicity           object\n",
      "education           object\n",
      "years_experience     int64\n",
      "skills              object\n",
      "label                int64\n",
      "skills_list         object\n",
      "num_skills           int64\n",
      "dtype: object\n",
      "\n",
      "--- gender value_counts ---\n",
      "gender\n",
      "male          904\n",
      "female        896\n",
      "non-binary    103\n",
      "unknown        97\n",
      "Name: count, dtype: int64\n",
      "\n",
      "--- ethnicity value_counts ---\n",
      "ethnicity\n",
      "groupa     1202\n",
      "groupb      520\n",
      "groupc      195\n",
      "unknown      83\n",
      "Name: count, dtype: int64\n",
      "\n",
      "--- education value_counts ---\n",
      "education\n",
      "phd          674\n",
      "masters      670\n",
      "bachelors    656\n",
      "Name: count, dtype: int64\n",
      "\n",
      "--- label value_counts ---\n",
      "label\n",
      "1    1134\n",
      "0     866\n",
      "Name: count, dtype: int64\n"
     ]
    }
   ],
   "source": [
    "# Cell 5 — columns, dtypes, sample values\n",
    "print(\"Columns:\", df.columns.tolist())\n",
    "print(\"\\nDtypes:\\n\", df.dtypes)\n",
    "# show unique values for protected attrs\n",
    "for col in ['gender','ethnicity','education','label']:\n",
    "    if col in df.columns:\n",
    "        print(f\"\\n--- {col} value_counts ---\")\n",
    "        print(df[col].value_counts(dropna=False))\n"
   ]
  },
  {
   "cell_type": "code",
   "execution_count": 14,
   "metadata": {},
   "outputs": [
    {
     "name": "stdout",
     "output_type": "stream",
     "text": [
      "Shape: (2000, 9)\n",
      "<class 'pandas.core.frame.DataFrame'>\n",
      "RangeIndex: 2000 entries, 0 to 1999\n",
      "Data columns (total 9 columns):\n",
      " #   Column            Non-Null Count  Dtype \n",
      "---  ------            --------------  ----- \n",
      " 0   candidate_id      2000 non-null   int64 \n",
      " 1   gender            2000 non-null   object\n",
      " 2   ethnicity         2000 non-null   object\n",
      " 3   education         2000 non-null   object\n",
      " 4   years_experience  2000 non-null   int64 \n",
      " 5   skills            2000 non-null   object\n",
      " 6   label             2000 non-null   int64 \n",
      " 7   skills_list       2000 non-null   object\n",
      " 8   num_skills        2000 non-null   int64 \n",
      "dtypes: int64(4), object(5)\n",
      "memory usage: 140.8+ KB\n"
     ]
    },
    {
     "data": {
      "text/plain": [
       "None"
      ]
     },
     "metadata": {},
     "output_type": "display_data"
    },
    {
     "data": {
      "text/html": [
       "<div>\n",
       "<style scoped>\n",
       "    .dataframe tbody tr th:only-of-type {\n",
       "        vertical-align: middle;\n",
       "    }\n",
       "\n",
       "    .dataframe tbody tr th {\n",
       "        vertical-align: top;\n",
       "    }\n",
       "\n",
       "    .dataframe thead th {\n",
       "        text-align: right;\n",
       "    }\n",
       "</style>\n",
       "<table border=\"1\" class=\"dataframe\">\n",
       "  <thead>\n",
       "    <tr style=\"text-align: right;\">\n",
       "      <th></th>\n",
       "      <th>candidate_id</th>\n",
       "      <th>gender</th>\n",
       "      <th>ethnicity</th>\n",
       "      <th>education</th>\n",
       "      <th>years_experience</th>\n",
       "      <th>skills</th>\n",
       "      <th>label</th>\n",
       "      <th>skills_list</th>\n",
       "      <th>num_skills</th>\n",
       "    </tr>\n",
       "  </thead>\n",
       "  <tbody>\n",
       "    <tr>\n",
       "      <th>0</th>\n",
       "      <td>0</td>\n",
       "      <td>female</td>\n",
       "      <td>groupa</td>\n",
       "      <td>phd</td>\n",
       "      <td>10</td>\n",
       "      <td>investment;as;either;identify</td>\n",
       "      <td>1</td>\n",
       "      <td>[investment, as, either, identify]</td>\n",
       "      <td>4</td>\n",
       "    </tr>\n",
       "    <tr>\n",
       "      <th>1</th>\n",
       "      <td>1</td>\n",
       "      <td>male</td>\n",
       "      <td>groupb</td>\n",
       "      <td>masters</td>\n",
       "      <td>8</td>\n",
       "      <td>data;although;recent;thousand</td>\n",
       "      <td>1</td>\n",
       "      <td>[data, although, recent, thousand]</td>\n",
       "      <td>4</td>\n",
       "    </tr>\n",
       "    <tr>\n",
       "      <th>2</th>\n",
       "      <td>2</td>\n",
       "      <td>male</td>\n",
       "      <td>groupb</td>\n",
       "      <td>masters</td>\n",
       "      <td>18</td>\n",
       "      <td>where;guess;agree;skin</td>\n",
       "      <td>1</td>\n",
       "      <td>[where, guess, agree, skin]</td>\n",
       "      <td>4</td>\n",
       "    </tr>\n",
       "    <tr>\n",
       "      <th>3</th>\n",
       "      <td>3</td>\n",
       "      <td>female</td>\n",
       "      <td>groupb</td>\n",
       "      <td>bachelors</td>\n",
       "      <td>17</td>\n",
       "      <td>participant;direction;discuss;city</td>\n",
       "      <td>1</td>\n",
       "      <td>[participant, direction, discuss, city]</td>\n",
       "      <td>4</td>\n",
       "    </tr>\n",
       "    <tr>\n",
       "      <th>4</th>\n",
       "      <td>4</td>\n",
       "      <td>female</td>\n",
       "      <td>groupb</td>\n",
       "      <td>phd</td>\n",
       "      <td>15</td>\n",
       "      <td>serve;scientist;enter;character</td>\n",
       "      <td>0</td>\n",
       "      <td>[serve, scientist, enter, character]</td>\n",
       "      <td>4</td>\n",
       "    </tr>\n",
       "    <tr>\n",
       "      <th>5</th>\n",
       "      <td>5</td>\n",
       "      <td>male</td>\n",
       "      <td>groupa</td>\n",
       "      <td>phd</td>\n",
       "      <td>7</td>\n",
       "      <td>group;call;suggest;kid</td>\n",
       "      <td>1</td>\n",
       "      <td>[group, call, suggest, kid]</td>\n",
       "      <td>4</td>\n",
       "    </tr>\n",
       "    <tr>\n",
       "      <th>6</th>\n",
       "      <td>6</td>\n",
       "      <td>non-binary</td>\n",
       "      <td>groupb</td>\n",
       "      <td>masters</td>\n",
       "      <td>6</td>\n",
       "      <td>peace;college;paper;long</td>\n",
       "      <td>1</td>\n",
       "      <td>[peace, college, paper, long]</td>\n",
       "      <td>4</td>\n",
       "    </tr>\n",
       "    <tr>\n",
       "      <th>7</th>\n",
       "      <td>7</td>\n",
       "      <td>non-binary</td>\n",
       "      <td>groupa</td>\n",
       "      <td>phd</td>\n",
       "      <td>8</td>\n",
       "      <td>space;if;may;mother</td>\n",
       "      <td>1</td>\n",
       "      <td>[space, if, may, mother]</td>\n",
       "      <td>4</td>\n",
       "    </tr>\n",
       "  </tbody>\n",
       "</table>\n",
       "</div>"
      ],
      "text/plain": [
       "   candidate_id      gender ethnicity  education  years_experience  \\\n",
       "0             0      female    groupa        phd                10   \n",
       "1             1        male    groupb    masters                 8   \n",
       "2             2        male    groupb    masters                18   \n",
       "3             3      female    groupb  bachelors                17   \n",
       "4             4      female    groupb        phd                15   \n",
       "5             5        male    groupa        phd                 7   \n",
       "6             6  non-binary    groupb    masters                 6   \n",
       "7             7  non-binary    groupa        phd                 8   \n",
       "\n",
       "                               skills  label  \\\n",
       "0       investment;as;either;identify      1   \n",
       "1       data;although;recent;thousand      1   \n",
       "2              where;guess;agree;skin      1   \n",
       "3  participant;direction;discuss;city      1   \n",
       "4     serve;scientist;enter;character      0   \n",
       "5              group;call;suggest;kid      1   \n",
       "6            peace;college;paper;long      1   \n",
       "7                 space;if;may;mother      1   \n",
       "\n",
       "                               skills_list  num_skills  \n",
       "0       [investment, as, either, identify]           4  \n",
       "1       [data, although, recent, thousand]           4  \n",
       "2              [where, guess, agree, skin]           4  \n",
       "3  [participant, direction, discuss, city]           4  \n",
       "4     [serve, scientist, enter, character]           4  \n",
       "5              [group, call, suggest, kid]           4  \n",
       "6            [peace, college, paper, long]           4  \n",
       "7                 [space, if, may, mother]           4  "
      ]
     },
     "metadata": {},
     "output_type": "display_data"
    }
   ],
   "source": [
    "# Cell 4 — basic shape & info\n",
    "print(\"Shape:\", df.shape)\n",
    "display(df.info())        # column dtypes and non-null counts\n",
    "display(df.head(8))\n"
   ]
  },
  {
   "cell_type": "code",
   "execution_count": 15,
   "metadata": {},
   "outputs": [
    {
     "name": "stdout",
     "output_type": "stream",
     "text": [
      "Loading file from: ../data/synthetic_resumes.csv\n"
     ]
    },
    {
     "data": {
      "text/html": [
       "<div>\n",
       "<style scoped>\n",
       "    .dataframe tbody tr th:only-of-type {\n",
       "        vertical-align: middle;\n",
       "    }\n",
       "\n",
       "    .dataframe tbody tr th {\n",
       "        vertical-align: top;\n",
       "    }\n",
       "\n",
       "    .dataframe thead th {\n",
       "        text-align: right;\n",
       "    }\n",
       "</style>\n",
       "<table border=\"1\" class=\"dataframe\">\n",
       "  <thead>\n",
       "    <tr style=\"text-align: right;\">\n",
       "      <th></th>\n",
       "      <th>candidate_id</th>\n",
       "      <th>gender</th>\n",
       "      <th>ethnicity</th>\n",
       "      <th>education</th>\n",
       "      <th>years_experience</th>\n",
       "      <th>skills</th>\n",
       "      <th>label</th>\n",
       "    </tr>\n",
       "  </thead>\n",
       "  <tbody>\n",
       "    <tr>\n",
       "      <th>0</th>\n",
       "      <td>0</td>\n",
       "      <td>female</td>\n",
       "      <td>groupA</td>\n",
       "      <td>phd</td>\n",
       "      <td>10</td>\n",
       "      <td>investment;as;either;identify</td>\n",
       "      <td>1</td>\n",
       "    </tr>\n",
       "    <tr>\n",
       "      <th>1</th>\n",
       "      <td>1</td>\n",
       "      <td>male</td>\n",
       "      <td>groupB</td>\n",
       "      <td>masters</td>\n",
       "      <td>8</td>\n",
       "      <td>data;although;recent;thousand</td>\n",
       "      <td>1</td>\n",
       "    </tr>\n",
       "    <tr>\n",
       "      <th>2</th>\n",
       "      <td>2</td>\n",
       "      <td>male</td>\n",
       "      <td>groupB</td>\n",
       "      <td>masters</td>\n",
       "      <td>18</td>\n",
       "      <td>where;guess;agree;skin</td>\n",
       "      <td>1</td>\n",
       "    </tr>\n",
       "    <tr>\n",
       "      <th>3</th>\n",
       "      <td>3</td>\n",
       "      <td>female</td>\n",
       "      <td>groupB</td>\n",
       "      <td>bachelors</td>\n",
       "      <td>17</td>\n",
       "      <td>participant;direction;discuss;city</td>\n",
       "      <td>1</td>\n",
       "    </tr>\n",
       "    <tr>\n",
       "      <th>4</th>\n",
       "      <td>4</td>\n",
       "      <td>female</td>\n",
       "      <td>groupB</td>\n",
       "      <td>phd</td>\n",
       "      <td>15</td>\n",
       "      <td>serve;scientist;enter;character</td>\n",
       "      <td>0</td>\n",
       "    </tr>\n",
       "  </tbody>\n",
       "</table>\n",
       "</div>"
      ],
      "text/plain": [
       "   candidate_id  gender ethnicity  education  years_experience  \\\n",
       "0             0  female    groupA        phd                10   \n",
       "1             1    male    groupB    masters                 8   \n",
       "2             2    male    groupB    masters                18   \n",
       "3             3  female    groupB  bachelors                17   \n",
       "4             4  female    groupB        phd                15   \n",
       "\n",
       "                               skills  label  \n",
       "0       investment;as;either;identify      1  \n",
       "1       data;although;recent;thousand      1  \n",
       "2              where;guess;agree;skin      1  \n",
       "3  participant;direction;discuss;city      1  \n",
       "4     serve;scientist;enter;character      0  "
      ]
     },
     "execution_count": 15,
     "metadata": {},
     "output_type": "execute_result"
    }
   ],
   "source": [
    "# Cell 3 — load dataset with safety checks\n",
    "import os\n",
    "import pandas as pd\n",
    "\n",
    "# adjust relative path if your Jupyter server root differs.\n",
    "path_candidates = ['data/synthetic_resumes.csv', '../data/synthetic_resumes.csv', 'data/raw_resumes.csv']\n",
    "\n",
    "for p in path_candidates:\n",
    "    if os.path.exists(p):\n",
    "        path = p\n",
    "        break\n",
    "else:\n",
    "    raise FileNotFoundError(f\"No CSV found. Searched: {path_candidates}\")\n",
    "\n",
    "print(\"Loading file from:\", path)\n",
    "df = pd.read_csv(path, low_memory=False)   # low_memory=False avoids dtype warnings\n",
    "df.head(5)\n"
   ]
  },
  {
   "cell_type": "code",
   "execution_count": 16,
   "metadata": {},
   "outputs": [
    {
     "name": "stdout",
     "output_type": "stream",
     "text": [
      "ls: data: No such file or directory\n",
      "head: data/synthetic_resumes.csv: No such file or directory\n"
     ]
    }
   ],
   "source": [
    "# Cell 2 — quick shell preview (works in notebook)\n",
    "!ls -la data\n",
    "!head -n 6 data/synthetic_resumes.csv\n"
   ]
  },
  {
   "cell_type": "code",
   "execution_count": 17,
   "metadata": {},
   "outputs": [
    {
     "name": "stdout",
     "output_type": "stream",
     "text": [
      "Current working dir: /Users/chiragrgowda/Documents/resume-fairness/notebooks\n",
      "Python executable: /Users/chiragrgowda/Documents/resume-fairness/venv/bin/python\n",
      "sys.path[0]: /opt/homebrew/Cellar/python@3.13/3.13.1/Frameworks/Python.framework/Versions/3.13/lib/python313.zip\n"
     ]
    }
   ],
   "source": [
    "# Cell 1 — environment & working-dir checks\n",
    "import os, sys\n",
    "print(\"Current working dir:\", os.getcwd())      # where Jupyter is reading files from\n",
    "print(\"Python executable:\", sys.executable)     # which Python is running\n",
    "print(\"sys.path[0]:\", sys.path[0])\n"
   ]
  },
  {
   "cell_type": "code",
   "execution_count": 33,
   "metadata": {},
   "outputs": [
    {
     "name": "stdout",
     "output_type": "stream",
     "text": [
      "Shape: (2000, 7)\n"
     ]
    },
    {
     "data": {
      "text/html": [
       "<div>\n",
       "<style scoped>\n",
       "    .dataframe tbody tr th:only-of-type {\n",
       "        vertical-align: middle;\n",
       "    }\n",
       "\n",
       "    .dataframe tbody tr th {\n",
       "        vertical-align: top;\n",
       "    }\n",
       "\n",
       "    .dataframe thead th {\n",
       "        text-align: right;\n",
       "    }\n",
       "</style>\n",
       "<table border=\"1\" class=\"dataframe\">\n",
       "  <thead>\n",
       "    <tr style=\"text-align: right;\">\n",
       "      <th></th>\n",
       "      <th>candidate_id</th>\n",
       "      <th>gender</th>\n",
       "      <th>ethnicity</th>\n",
       "      <th>education</th>\n",
       "      <th>years_experience</th>\n",
       "      <th>skills</th>\n",
       "      <th>label</th>\n",
       "    </tr>\n",
       "  </thead>\n",
       "  <tbody>\n",
       "    <tr>\n",
       "      <th>0</th>\n",
       "      <td>0</td>\n",
       "      <td>female</td>\n",
       "      <td>groupA</td>\n",
       "      <td>phd</td>\n",
       "      <td>10</td>\n",
       "      <td>investment;as;either;identify</td>\n",
       "      <td>1</td>\n",
       "    </tr>\n",
       "    <tr>\n",
       "      <th>1</th>\n",
       "      <td>1</td>\n",
       "      <td>male</td>\n",
       "      <td>groupB</td>\n",
       "      <td>masters</td>\n",
       "      <td>8</td>\n",
       "      <td>data;although;recent;thousand</td>\n",
       "      <td>1</td>\n",
       "    </tr>\n",
       "    <tr>\n",
       "      <th>2</th>\n",
       "      <td>2</td>\n",
       "      <td>male</td>\n",
       "      <td>groupB</td>\n",
       "      <td>masters</td>\n",
       "      <td>18</td>\n",
       "      <td>where;guess;agree;skin</td>\n",
       "      <td>1</td>\n",
       "    </tr>\n",
       "    <tr>\n",
       "      <th>3</th>\n",
       "      <td>3</td>\n",
       "      <td>female</td>\n",
       "      <td>groupB</td>\n",
       "      <td>bachelors</td>\n",
       "      <td>17</td>\n",
       "      <td>participant;direction;discuss;city</td>\n",
       "      <td>1</td>\n",
       "    </tr>\n",
       "    <tr>\n",
       "      <th>4</th>\n",
       "      <td>4</td>\n",
       "      <td>female</td>\n",
       "      <td>groupB</td>\n",
       "      <td>phd</td>\n",
       "      <td>15</td>\n",
       "      <td>serve;scientist;enter;character</td>\n",
       "      <td>0</td>\n",
       "    </tr>\n",
       "  </tbody>\n",
       "</table>\n",
       "</div>"
      ],
      "text/plain": [
       "   candidate_id  gender ethnicity  education  years_experience  \\\n",
       "0             0  female    groupA        phd                10   \n",
       "1             1    male    groupB    masters                 8   \n",
       "2             2    male    groupB    masters                18   \n",
       "3             3  female    groupB  bachelors                17   \n",
       "4             4  female    groupB        phd                15   \n",
       "\n",
       "                               skills  label  \n",
       "0       investment;as;either;identify      1  \n",
       "1       data;although;recent;thousand      1  \n",
       "2              where;guess;agree;skin      1  \n",
       "3  participant;direction;discuss;city      1  \n",
       "4     serve;scientist;enter;character      0  "
      ]
     },
     "metadata": {},
     "output_type": "display_data"
    },
    {
     "name": "stdout",
     "output_type": "stream",
     "text": [
      "Missing counts:\n",
      " candidate_id        0\n",
      "gender              0\n",
      "ethnicity           0\n",
      "education           0\n",
      "years_experience    0\n",
      "skills              0\n",
      "label               0\n",
      "dtype: int64\n",
      "\n",
      "Missing fraction:\n",
      " candidate_id        0.0\n",
      "gender              0.0\n",
      "ethnicity           0.0\n",
      "education           0.0\n",
      "years_experience    0.0\n",
      "skills              0.0\n",
      "label               0.0\n",
      "dtype: float64\n"
     ]
    }
   ],
   "source": [
    "# Cell A — load dataset and inspect missingness\n",
    "import pandas as pd\n",
    "df = pd.read_csv(\"../data/synthetic_resumes.csv\", low_memory=False)   # adjust path if needed\n",
    "\n",
    "# basic info\n",
    "print(\"Shape:\", df.shape)\n",
    "display(df.head())\n",
    "\n",
    "# count missing values per column\n",
    "missing = df.isna().sum().sort_values(ascending=False)\n",
    "print(\"Missing counts:\\n\", missing)\n",
    "\n",
    "# fraction missing\n",
    "print(\"\\nMissing fraction:\\n\", (df.isna().mean()).sort_values(ascending=False))\n"
   ]
  },
  {
   "cell_type": "code",
   "execution_count": 19,
   "metadata": {},
   "outputs": [
    {
     "data": {
      "text/plain": [
       "candidate_id        0\n",
       "gender              0\n",
       "ethnicity           0\n",
       "education           0\n",
       "years_experience    0\n",
       "skills              0\n",
       "label               0\n",
       "dtype: int64"
      ]
     },
     "metadata": {},
     "output_type": "display_data"
    }
   ],
   "source": [
    "# Cell B — normalize string placeholders to actual NaN\n",
    "import numpy as np\n",
    "\n",
    "# columns to coerce from string 'nan' etc.\n",
    "for col in df.columns:\n",
    "    if df[col].dtype == object:\n",
    "        df[col] = df[col].replace(['', ' ', 'None', 'none', 'NaN', 'nan'], pd.NA)\n",
    "\n",
    "# re-check missing\n",
    "display(df.isna().sum())\n"
   ]
  },
  {
   "cell_type": "code",
   "execution_count": 22,
   "metadata": {},
   "outputs": [],
   "source": [
    "# Cell C — protected attributes: fill missing with 'unknown'\n",
    "for col in ['gender', 'ethnicity']:\n",
    "    if col in df.columns:\n",
    "        # keep original as backup if needed\n",
    "        df[f\"{col}_raw\"] = df[col]\n",
    "        df[col] = df[col].fillna('unknown').astype(str).str.strip().str.lower()\n",
    "        # standardized categories examples (adjust to your context)\n",
    "        df[col] = df[col].replace({\n",
    "            'm':'male', 'f':'female', 'man':'male', 'woman':'female',\n",
    "            'na':'unknown', 'n/a':'unknown', 'none':'unknown'\n",
    "        })\n",
    "        # create a missing indicator (True if it was missing)\n",
    "        df[f\"{col}_missing\"] = df[f\"{col}_raw\"].isna()\n"
   ]
  },
  {
   "cell_type": "code",
   "execution_count": 23,
   "metadata": {},
   "outputs": [],
   "source": [
    "# Cell D — canonicalize education & fill missing\n",
    "if 'education' in df.columns:\n",
    "    df['education'] = df['education'].fillna('unknown').astype(str).str.strip().str.lower()\n",
    "    df['education'] = df['education'].replace({\n",
    "        'b.sc':'bachelors','bsc':'bachelors','bs':'bachelors',\n",
    "        'msc':'masters','m.sc':'masters','mtech':'masters',\n",
    "        'ph.d':'phd','phd':'phd','doctorate':'phd'\n",
    "    })\n",
    "    df['education_missing'] = df['education'] == 'unknown'\n"
   ]
  },
  {
   "cell_type": "code",
   "execution_count": 24,
   "metadata": {},
   "outputs": [
    {
     "name": "stdout",
     "output_type": "stream",
     "text": [
      "median years: 10.0\n"
     ]
    }
   ],
   "source": [
    "# Cell E — fix years_experience\n",
    "if 'years_experience' in df.columns:\n",
    "    # coerce errors to NaN, strip stray text\n",
    "    df['years_experience'] = pd.to_numeric(df['years_experience'], errors='coerce')\n",
    "    # missing indicator\n",
    "    df['years_experience_missing'] = df['years_experience'].isna()\n",
    "    # simple imputation: fill with 0 or median (choose one)\n",
    "    # Option A: fill with 0 (if missing means no experience)\n",
    "    # df['years_experience'] = df['years_experience'].fillna(0)\n",
    "    # Option B: fill with median (safer generally)\n",
    "    median_yrs = df['years_experience'].median(skipna=True)\n",
    "    df['years_experience'] = df['years_experience'].fillna(median_yrs)\n",
    "    print(\"median years:\", median_yrs)\n"
   ]
  },
  {
   "cell_type": "code",
   "execution_count": 25,
   "metadata": {},
   "outputs": [],
   "source": [
    "# Cell F — skills handling\n",
    "if 'skills' in df.columns:\n",
    "    df['skills'] = df['skills'].fillna('').astype(str)\n",
    "    # normalize separators and case\n",
    "    df['skills'] = df['skills'].str.replace(',', ';').str.lower()\n",
    "    # split into list (empty string -> empty list)\n",
    "    df['skills_list'] = df['skills'].apply(lambda s: [x.strip() for x in s.split(';') if x.strip()])\n",
    "    # feature: number of skills\n",
    "    df['num_skills'] = df['skills_list'].apply(len)\n",
    "    # indicator for missing skills\n",
    "    df['skills_missing'] = df['skills'] == ''\n"
   ]
  },
  {
   "cell_type": "code",
   "execution_count": 26,
   "metadata": {},
   "outputs": [],
   "source": [
    "# Cell G — resume_text clean or extract\n",
    "import re\n",
    "if 'resume_text' in df.columns:\n",
    "    df['resume_text'] = df['resume_text'].fillna('').astype(str)\n",
    "    # very simple text length feature\n",
    "    df['resume_len_chars'] = df['resume_text'].str.len()\n",
    "    df['resume_len_words'] = df['resume_text'].str.split().apply(len)\n",
    "    # optional: try to extract numeric experience from resume_text if years_experience missing\n",
    "    mask = df['years_experience_missing'] & (df['resume_text'] != '')\n",
    "    # simple regex to find \"X years\" pattern\n",
    "    def extract_years(text):\n",
    "        m = re.search(r'(\\d{1,2})\\s+years?', text.lower())\n",
    "        return int(m.group(1)) if m else None\n",
    "    df.loc[mask, 'years_experience'] = df.loc[mask, 'resume_text'].apply(extract_years).fillna(df.loc[mask, 'years_experience'])\n"
   ]
  },
  {
   "cell_type": "code",
   "execution_count": 27,
   "metadata": {},
   "outputs": [
    {
     "name": "stdout",
     "output_type": "stream",
     "text": [
      "Missing labels: 0\n"
     ]
    }
   ],
   "source": [
    "# Cell H — label sanity\n",
    "if 'label' in df.columns:\n",
    "    # check missing labels\n",
    "    missing_labels = df['label'].isna().sum()\n",
    "    print(\"Missing labels:\", missing_labels)\n",
    "    # if labels missing and you cannot infer, you may need to drop them for supervised training\n",
    "    # e.g., df = df[df['label'].notna()].copy()\n"
   ]
  },
  {
   "cell_type": "code",
   "execution_count": 28,
   "metadata": {},
   "outputs": [
    {
     "name": "stdout",
     "output_type": "stream",
     "text": [
      "gender_missing 0 rows ( 0.0 %)\n",
      "ethnicity_missing 0 rows ( 0.0 %)\n",
      "education_missing 0 rows ( 0.0 %)\n",
      "years_experience_missing 0 rows ( 0.0 %)\n",
      "skills_missing 0 rows ( 0.0 %)\n",
      "\n",
      "Selection rate by gender (after imputation):\n",
      "gender\n",
      "female        0.549107\n",
      "male          0.585177\n",
      "non-binary    0.592233\n",
      "unknown       0.536082\n",
      "Name: label, dtype: float64\n"
     ]
    }
   ],
   "source": [
    "# Cell I — display before/after summaries\n",
    "summary_cols = ['gender_missing','ethnicity_missing','education_missing','years_experience_missing','skills_missing']\n",
    "for c in summary_cols:\n",
    "    if c in df.columns:\n",
    "        print(c, df[c].sum(), \"rows (\", round(100*df[c].mean(),2),\"%)\")\n",
    "# quick group selection rates\n",
    "if 'label' in df.columns:\n",
    "    if 'gender' in df.columns:\n",
    "        print(\"\\nSelection rate by gender (after imputation):\")\n",
    "        print(df.groupby('gender')['label'].mean())\n"
   ]
  },
  {
   "cell_type": "code",
   "execution_count": 29,
   "metadata": {},
   "outputs": [],
   "source": [
    "# Cell J — example of sklearn imputer usage for numeric and categorical (for future pipeline)\n",
    "from sklearn.impute import SimpleImputer\n",
    "from sklearn.preprocessing import OneHotEncoder\n",
    "from sklearn.compose import ColumnTransformer\n",
    "from sklearn.pipeline import Pipeline\n",
    "\n",
    "num_cols = ['years_experience','num_skills','resume_len_words']\n",
    "cat_cols = ['gender','ethnicity','education']\n",
    "\n",
    "num_imputer = SimpleImputer(strategy='median')\n",
    "cat_imputer = SimpleImputer(strategy='constant', fill_value='unknown')\n",
    "\n",
    "preprocessor = ColumnTransformer(transformers=[\n",
    "    ('num', num_imputer, num_cols),\n",
    "    ('cat', cat_imputer, cat_cols)\n",
    "], remainder='drop')\n",
    "\n",
    "# Fit-transform example (do on training only)\n",
    "# X = df[num_cols + cat_cols]\n",
    "# X_processed = preprocessor.fit_transform(X)\n"
   ]
  },
  {
   "cell_type": "code",
   "execution_count": 36,
   "metadata": {},
   "outputs": [
    {
     "name": "stdout",
     "output_type": "stream",
     "text": [
      "Saved cleaned dataset to ../data/cleaned_resumes.csv\n"
     ]
    }
   ],
   "source": [
    "# Cell K — save cleaned file (local)\n",
    "out_path = \"../data/cleaned_resumes.csv\"\n",
    "df.to_csv(out_path, index=False)\n",
    "print(\"Saved cleaned dataset to\", out_path)\n"
   ]
  }
 ],
 "metadata": {
  "kernelspec": {
   "display_name": "venv",
   "language": "python",
   "name": "python3"
  },
  "language_info": {
   "codemirror_mode": {
    "name": "ipython",
    "version": 3
   },
   "file_extension": ".py",
   "mimetype": "text/x-python",
   "name": "python",
   "nbconvert_exporter": "python",
   "pygments_lexer": "ipython3",
   "version": "3.13.1"
  }
 },
 "nbformat": 4,
 "nbformat_minor": 2
}
